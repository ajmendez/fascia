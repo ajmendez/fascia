{
 "metadata": {
  "name": "",
  "signature": "sha256:fe6912caf0ed45a216cb7bc6ed4b111da20bc60b3d60aafc0229d90e32b62b8a"
 },
 "nbformat": 3,
 "nbformat_minor": 0,
 "worksheets": [
  {
   "cells": [
    {
     "cell_type": "code",
     "collapsed": false,
     "input": [],
     "language": "python",
     "metadata": {},
     "outputs": []
    },
    {
     "cell_type": "code",
     "collapsed": false,
     "input": [
      "import calendar\n",
      "from datetime import datetime"
     ],
     "language": "python",
     "metadata": {},
     "outputs": [],
     "prompt_number": 1
    },
    {
     "cell_type": "code",
     "collapsed": false,
     "input": [
      "cal = calendar.Calendar(calendar.SUNDAY)"
     ],
     "language": "python",
     "metadata": {},
     "outputs": [],
     "prompt_number": 5
    },
    {
     "cell_type": "code",
     "collapsed": false,
     "input": [
      "cal.monthdayscalendar(2014,5)"
     ],
     "language": "python",
     "metadata": {},
     "outputs": [
      {
       "metadata": {},
       "output_type": "pyout",
       "prompt_number": 9,
       "text": [
        "[[0, 0, 0, 0, 1, 2, 3],\n",
        " [4, 5, 6, 7, 8, 9, 10],\n",
        " [11, 12, 13, 14, 15, 16, 17],\n",
        " [18, 19, 20, 21, 22, 23, 24],\n",
        " [25, 26, 27, 28, 29, 30, 31]]"
       ]
      }
     ],
     "prompt_number": 9
    },
    {
     "cell_type": "code",
     "collapsed": false,
     "input": [
      "[calendar.day_abbr[i] for i in range(7)]"
     ],
     "language": "python",
     "metadata": {},
     "outputs": [
      {
       "metadata": {},
       "output_type": "pyout",
       "prompt_number": 23,
       "text": [
        "['Mon', 'Tue', 'Wed', 'Thu', 'Fri', 'Sat', 'Sun']"
       ]
      }
     ],
     "prompt_number": 23
    },
    {
     "cell_type": "code",
     "collapsed": false,
     "input": [
      "calendar.monthcalendar(2014,5)"
     ],
     "language": "python",
     "metadata": {},
     "outputs": [
      {
       "metadata": {},
       "output_type": "pyout",
       "prompt_number": 24,
       "text": [
        "[[0, 0, 0, 1, 2, 3, 4],\n",
        " [5, 6, 7, 8, 9, 10, 11],\n",
        " [12, 13, 14, 15, 16, 17, 18],\n",
        " [19, 20, 21, 22, 23, 24, 25],\n",
        " [26, 27, 28, 29, 30, 31, 0]]"
       ]
      }
     ],
     "prompt_number": 24
    },
    {
     "cell_type": "code",
     "collapsed": false,
     "input": [
      "cal.monthdayscalendar(2014,5)"
     ],
     "language": "python",
     "metadata": {},
     "outputs": [
      {
       "metadata": {},
       "output_type": "pyout",
       "prompt_number": 25,
       "text": [
        "[[0, 0, 0, 0, 1, 2, 3],\n",
        " [4, 5, 6, 7, 8, 9, 10],\n",
        " [11, 12, 13, 14, 15, 16, 17],\n",
        " [18, 19, 20, 21, 22, 23, 24],\n",
        " [25, 26, 27, 28, 29, 30, 31]]"
       ]
      }
     ],
     "prompt_number": 25
    },
    {
     "cell_type": "code",
     "collapsed": false,
     "input": [
      "cal.monthdays2calendar(2014,5)"
     ],
     "language": "python",
     "metadata": {},
     "outputs": [
      {
       "metadata": {},
       "output_type": "pyout",
       "prompt_number": 26,
       "text": [
        "[[(0, 6), (0, 0), (0, 1), (0, 2), (1, 3), (2, 4), (3, 5)],\n",
        " [(4, 6), (5, 0), (6, 1), (7, 2), (8, 3), (9, 4), (10, 5)],\n",
        " [(11, 6), (12, 0), (13, 1), (14, 2), (15, 3), (16, 4), (17, 5)],\n",
        " [(18, 6), (19, 0), (20, 1), (21, 2), (22, 3), (23, 4), (24, 5)],\n",
        " [(25, 6), (26, 0), (27, 1), (28, 2), (29, 3), (30, 4), (31, 5)]]"
       ]
      }
     ],
     "prompt_number": 26
    },
    {
     "cell_type": "code",
     "collapsed": false,
     "input": [
      "datetime.now().year"
     ],
     "language": "python",
     "metadata": {},
     "outputs": [
      {
       "metadata": {},
       "output_type": "pyout",
       "prompt_number": 28,
       "text": [
        "2014"
       ]
      }
     ],
     "prompt_number": 28
    },
    {
     "cell_type": "code",
     "collapsed": false,
     "input": [
      "out = []\n",
      "for i in range(10):\n",
      "    out.append([i,10*i])\n",
      "print map(np.mean, zip(*out))\n",
      "print np.mean(zip(*out)[0])"
     ],
     "language": "python",
     "metadata": {},
     "outputs": [
      {
       "output_type": "stream",
       "stream": "stdout",
       "text": [
        "[4.5, 45.0]\n",
        "4.5\n"
       ]
      }
     ],
     "prompt_number": 35
    },
    {
     "cell_type": "markdown",
     "metadata": {},
     "source": [
      "# Kivy"
     ]
    },
    {
     "cell_type": "code",
     "collapsed": false,
     "input": [
      "import sys\n",
      "from pprint import pprint\n",
      "directory = '/Applications/Kivy.app/Contents/Resources/kivy'\n",
      "if directory not in sys.path:\n",
      "    sys.path.append(directory)\n",
      "from kivy.network.urlrequest import UrlRequest\n"
     ],
     "language": "python",
     "metadata": {},
     "outputs": [],
     "prompt_number": 41
    },
    {
     "cell_type": "code",
     "collapsed": false,
     "input": [
      "def got_weather(req, results):\n",
      "    pprint(results)\n",
      "#     for key, value in results['weather'][0].items():\n",
      "#         print(key, ': ', value)\n",
      "\n",
      "URL = 'http://api.openweathermap.org/data/2.5/weather?q=San Diego,CA'\n",
      "req = UrlRequest(URL,got_weather, debug=True)\n",
      "req.wait()\n",
      "#help(req)\n",
      "print 'Done'"
     ],
     "language": "python",
     "metadata": {},
     "outputs": [
      {
       "output_type": "stream",
       "stream": "stdout",
       "text": [
        "{u'base': u'cmc stations',\n",
        " u'clouds': {u'all': 88},\n",
        " u'cod': 200,\n",
        " u'coord': {u'lat': 32.72, u'lon': -117.16},\n",
        " u'dt': 1400750212,\n",
        " u'id': 5391811,\n",
        " u'main': {u'grnd_level': 1027.55,\n",
        "           u'humidity': 100,\n",
        "           u'pressure': 1027.55,\n",
        "           u'sea_level': 1027.74,\n",
        "           u'temp': 289.643,\n",
        "           u'temp_max': 289.643,\n",
        "           u'temp_min': 289.643},\n",
        " u'name': u'San Diego',\n",
        " u'sys': {u'country': u'United States of America',\n",
        "          u'message': 0.22,\n",
        "          u'sunrise': 1400762705,\n",
        "          u'sunset': 1400813139},\n",
        " u'weather': [{u'description': u'overcast clouds',\n",
        "               u'icon': u'04n',\n",
        "               u'id': 804,\n",
        "               u'main': u'Clouds'}],\n",
        " u'wind': {u'deg': 304.004, u'speed': 4.2}}\n",
        "Done"
       ]
      },
      {
       "output_type": "stream",
       "stream": "stdout",
       "text": [
        "\n"
       ]
      }
     ],
     "prompt_number": 42
    },
    {
     "cell_type": "code",
     "collapsed": false,
     "input": [
      "print req.wait() "
     ],
     "language": "python",
     "metadata": {},
     "outputs": [
      {
       "output_type": "stream",
       "stream": "stdout",
       "text": [
        "(u'main', ': ', u'Clouds')\n",
        "(u'id', ': ', 804)\n",
        "(u'icon', ': ', u'04n')\n",
        "(u'description', ': ', u'overcast clouds')\n",
        "None"
       ]
      },
      {
       "output_type": "stream",
       "stream": "stdout",
       "text": [
        "\n"
       ]
      }
     ],
     "prompt_number": 38
    },
    {
     "cell_type": "code",
     "collapsed": false,
     "input": [
      "vars(req)\n",
      "#help(UrlRequest)"
     ],
     "language": "python",
     "metadata": {},
     "outputs": [
      {
       "metadata": {},
       "output_type": "pyout",
       "prompt_number": 40,
       "text": [
        "{'_Thread__args': (),\n",
        " '_Thread__block': <Condition(<thread.lock object at 0x10c5f7f10>, 0)>,\n",
        " '_Thread__daemonic': True,\n",
        " '_Thread__ident': 4560678912,\n",
        " '_Thread__initialized': True,\n",
        " '_Thread__kwargs': {},\n",
        " '_Thread__name': 'Thread-16',\n",
        " '_Thread__started': <threading._Event at 0x10cc7ef50>,\n",
        " '_Thread__stderr': <kivy.logger.LogFile at 0x10cc65790>,\n",
        " '_Thread__stopped': True,\n",
        " '_Thread__target': None,\n",
        " '_Verbose__verbose': False,\n",
        " '_chunk_size': 8192,\n",
        " '_debug': True,\n",
        " '_error': None,\n",
        " '_is_finished': True,\n",
        " '_method': None,\n",
        " '_queue': deque([]),\n",
        " '_resp_headers': {'access-control-allow-credentials': 'true',\n",
        "  'access-control-allow-methods': 'GET, POST',\n",
        "  'access-control-allow-origin': '*',\n",
        "  'connection': 'keep-alive',\n",
        "  'content-type': 'application/json; charset=utf-8',\n",
        "  'date': 'Thu, 22 May 2014 09:31:31 GMT',\n",
        "  'server': 'nginx',\n",
        "  'transfer-encoding': 'chunked'},\n",
        " '_resp_length': -1,\n",
        " '_resp_status': 200,\n",
        " '_result': {u'base': u'cmc stations',\n",
        "  u'clouds': {u'all': 88},\n",
        "  u'cod': 200,\n",
        "  u'coord': {u'lat': 32.72, u'lon': -117.16},\n",
        "  u'dt': 1400750212,\n",
        "  u'id': 5391811,\n",
        "  u'main': {u'grnd_level': 1027.55,\n",
        "   u'humidity': 100,\n",
        "   u'pressure': 1027.55,\n",
        "   u'sea_level': 1027.74,\n",
        "   u'temp': 289.643,\n",
        "   u'temp_max': 289.643,\n",
        "   u'temp_min': 289.643},\n",
        "  u'name': u'San Diego',\n",
        "  u'sys': {u'country': u'United States of America',\n",
        "   u'message': 0.22,\n",
        "   u'sunrise': 1400762705,\n",
        "   u'sunset': 1400813139},\n",
        "  u'weather': [{u'description': u'overcast clouds',\n",
        "    u'icon': u'04n',\n",
        "    u'id': 804,\n",
        "    u'main': u'Clouds'}],\n",
        "  u'wind': {u'deg': 304.004, u'speed': 4.2}},\n",
        " '_timeout': None,\n",
        " '_trigger_result': <ClockEvent callback=<bound method UrlRequest._dispatch_result of <UrlRequest(Thread-16, stopped daemon 4560678912)>>>,\n",
        " 'decode': True,\n",
        " 'file_path': None,\n",
        " 'on_error': None,\n",
        " 'on_failure': None,\n",
        " 'on_progress': None,\n",
        " 'on_redirect': None,\n",
        " 'on_success': <kivy.weakmethod.WeakMethod at 0x10cc7e9d0>,\n",
        " 'req_body': None,\n",
        " 'req_headers': None,\n",
        " 'url': 'http://api.openweathermap.org/data/2.5/weather?q=San Diego,CA'}"
       ]
      }
     ],
     "prompt_number": 40
    },
    {
     "cell_type": "code",
     "collapsed": false,
     "input": [],
     "language": "python",
     "metadata": {},
     "outputs": []
    }
   ],
   "metadata": {}
  }
 ]
}