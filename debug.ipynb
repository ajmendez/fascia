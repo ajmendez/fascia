{
 "metadata": {
  "name": "",
  "signature": "sha256:69f2d6b47633e457bc8a438cf4d51e57fc6ca003e0bef2ddf8e4a6bcddf9ea8e"
 },
 "nbformat": 3,
 "nbformat_minor": 0,
 "worksheets": [
  {
   "cells": [
    {
     "cell_type": "code",
     "collapsed": false,
     "input": [
      "import calendar\n",
      "from datetime import datetime"
     ],
     "language": "python",
     "metadata": {},
     "outputs": [],
     "prompt_number": 1
    },
    {
     "cell_type": "code",
     "collapsed": false,
     "input": [
      "cal = calendar.Calendar(calendar.SUNDAY)"
     ],
     "language": "python",
     "metadata": {},
     "outputs": [],
     "prompt_number": 5
    },
    {
     "cell_type": "code",
     "collapsed": false,
     "input": [
      "cal.monthdayscalendar(2014,5)"
     ],
     "language": "python",
     "metadata": {},
     "outputs": [
      {
       "metadata": {},
       "output_type": "pyout",
       "prompt_number": 9,
       "text": [
        "[[0, 0, 0, 0, 1, 2, 3],\n",
        " [4, 5, 6, 7, 8, 9, 10],\n",
        " [11, 12, 13, 14, 15, 16, 17],\n",
        " [18, 19, 20, 21, 22, 23, 24],\n",
        " [25, 26, 27, 28, 29, 30, 31]]"
       ]
      }
     ],
     "prompt_number": 9
    },
    {
     "cell_type": "code",
     "collapsed": false,
     "input": [
      "help(calendar)"
     ],
     "language": "python",
     "metadata": {},
     "outputs": [
      {
       "output_type": "stream",
       "stream": "stdout",
       "text": [
        "Help on module calendar:\n",
        "\n",
        "NAME\n",
        "    calendar - Calendar printing functions\n",
        "\n",
        "FILE\n",
        "    /usr/local/Cellar/python/2.7.6/Frameworks/Python.framework/Versions/2.7/lib/python2.7/calendar.py\n",
        "\n",
        "MODULE DOCS\n",
        "    http://docs.python.org/library/calendar\n",
        "\n",
        "DESCRIPTION\n",
        "    Note when comparing these calendars to the ones printed by cal(1): By\n",
        "    default, these calendars have Monday as the first day of the week, and\n",
        "    Sunday as the last (the European convention). Use setfirstweekday() to\n",
        "    set the first day of the week (0=Monday, 6=Sunday).\n",
        "\n",
        "CLASSES\n",
        "    exceptions.ValueError(exceptions.StandardError)\n",
        "        IllegalMonthError\n",
        "        IllegalWeekdayError\n",
        "    \n",
        "    class IllegalMonthError(exceptions.ValueError)\n",
        "     |  # Exceptions raised for bad input\n",
        "     |  \n",
        "     |  Method resolution order:\n",
        "     |      IllegalMonthError\n",
        "     |      exceptions.ValueError\n",
        "     |      exceptions.StandardError\n",
        "     |      exceptions.Exception\n",
        "     |      exceptions.BaseException\n",
        "     |      __builtin__.object\n",
        "     |  \n",
        "     |  Methods defined here:\n",
        "     |  \n",
        "     |  __init__(self, month)\n",
        "     |  \n",
        "     |  __str__(self)\n",
        "     |  \n",
        "     |  ----------------------------------------------------------------------\n",
        "     |  Data descriptors defined here:\n",
        "     |  \n",
        "     |  __weakref__\n",
        "     |      list of weak references to the object (if defined)\n",
        "     |  \n",
        "     |  ----------------------------------------------------------------------\n",
        "     |  Data and other attributes inherited from exceptions.ValueError:\n",
        "     |  \n",
        "     |  __new__ = <built-in method __new__ of type object>\n",
        "     |      T.__new__(S, ...) -> a new object with type S, a subtype of T\n",
        "     |  \n",
        "     |  ----------------------------------------------------------------------\n",
        "     |  Methods inherited from exceptions.BaseException:\n",
        "     |  \n",
        "     |  __delattr__(...)\n",
        "     |      x.__delattr__('name') <==> del x.name\n",
        "     |  \n",
        "     |  __getattribute__(...)\n",
        "     |      x.__getattribute__('name') <==> x.name\n",
        "     |  \n",
        "     |  __getitem__(...)\n",
        "     |      x.__getitem__(y) <==> x[y]\n",
        "     |  \n",
        "     |  __getslice__(...)\n",
        "     |      x.__getslice__(i, j) <==> x[i:j]\n",
        "     |      \n",
        "     |      Use of negative indices is not supported.\n",
        "     |  \n",
        "     |  __reduce__(...)\n",
        "     |  \n",
        "     |  __repr__(...)\n",
        "     |      x.__repr__() <==> repr(x)\n",
        "     |  \n",
        "     |  __setattr__(...)\n",
        "     |      x.__setattr__('name', value) <==> x.name = value\n",
        "     |  \n",
        "     |  __setstate__(...)\n",
        "     |  \n",
        "     |  __unicode__(...)\n",
        "     |  \n",
        "     |  ----------------------------------------------------------------------\n",
        "     |  Data descriptors inherited from exceptions.BaseException:\n",
        "     |  \n",
        "     |  __dict__\n",
        "     |  \n",
        "     |  args\n",
        "     |  \n",
        "     |  message\n",
        "    \n",
        "    class IllegalWeekdayError(exceptions.ValueError)\n",
        "     |  Method resolution order:\n",
        "     |      IllegalWeekdayError\n",
        "     |      exceptions.ValueError\n",
        "     |      exceptions.StandardError\n",
        "     |      exceptions.Exception\n",
        "     |      exceptions.BaseException\n",
        "     |      __builtin__.object\n",
        "     |  \n",
        "     |  Methods defined here:\n",
        "     |  \n",
        "     |  __init__(self, weekday)\n",
        "     |  \n",
        "     |  __str__(self)\n",
        "     |  \n",
        "     |  ----------------------------------------------------------------------\n",
        "     |  Data descriptors defined here:\n",
        "     |  \n",
        "     |  __weakref__\n",
        "     |      list of weak references to the object (if defined)\n",
        "     |  \n",
        "     |  ----------------------------------------------------------------------\n",
        "     |  Data and other attributes inherited from exceptions.ValueError:\n",
        "     |  \n",
        "     |  __new__ = <built-in method __new__ of type object>\n",
        "     |      T.__new__(S, ...) -> a new object with type S, a subtype of T\n",
        "     |  \n",
        "     |  ----------------------------------------------------------------------\n",
        "     |  Methods inherited from exceptions.BaseException:\n",
        "     |  \n",
        "     |  __delattr__(...)\n",
        "     |      x.__delattr__('name') <==> del x.name\n",
        "     |  \n",
        "     |  __getattribute__(...)\n",
        "     |      x.__getattribute__('name') <==> x.name\n",
        "     |  \n",
        "     |  __getitem__(...)\n",
        "     |      x.__getitem__(y) <==> x[y]\n",
        "     |  \n",
        "     |  __getslice__(...)\n",
        "     |      x.__getslice__(i, j) <==> x[i:j]\n",
        "     |      \n",
        "     |      Use of negative indices is not supported.\n",
        "     |  \n",
        "     |  __reduce__(...)\n",
        "     |  \n",
        "     |  __repr__(...)\n",
        "     |      x.__repr__() <==> repr(x)\n",
        "     |  \n",
        "     |  __setattr__(...)\n",
        "     |      x.__setattr__('name', value) <==> x.name = value\n",
        "     |  \n",
        "     |  __setstate__(...)\n",
        "     |  \n",
        "     |  __unicode__(...)\n",
        "     |  \n",
        "     |  ----------------------------------------------------------------------\n",
        "     |  Data descriptors inherited from exceptions.BaseException:\n",
        "     |  \n",
        "     |  __dict__\n",
        "     |  \n",
        "     |  args\n",
        "     |  \n",
        "     |  message\n",
        "\n",
        "FUNCTIONS\n",
        "    calendar = formatyear(self, theyear, w=2, l=1, c=6, m=3) method of TextCalendar instance\n",
        "        Returns a year's calendar as a multi-line string.\n",
        "    \n",
        "    firstweekday = getfirstweekday(self) method of TextCalendar instance\n",
        "    \n",
        "    isleap(year)\n",
        "        Return True for leap years, False for non-leap years.\n",
        "    \n",
        "    leapdays(y1, y2)\n",
        "        Return number of leap years in range [y1, y2).\n",
        "        Assume y1 <= y2.\n",
        "    \n",
        "    month = formatmonth(self, theyear, themonth, w=0, l=0) method of TextCalendar instance\n",
        "        Return a month's calendar string (multi-line).\n",
        "    \n",
        "    monthcalendar = monthdayscalendar(self, year, month) method of TextCalendar instance\n",
        "        Return a matrix representing a month's calendar.\n",
        "        Each row represents a week; days outside this month are zero.\n",
        "    \n",
        "    monthrange(year, month)\n",
        "        Return weekday (0-6 ~ Mon-Sun) and number of days (28-31) for\n",
        "        year, month.\n",
        "    \n",
        "    prcal = pryear(self, theyear, w=0, l=0, c=6, m=3) method of TextCalendar instance\n",
        "        Print a year's calendar.\n",
        "    \n",
        "    prmonth(self, theyear, themonth, w=0, l=0) method of TextCalendar instance\n",
        "        Print a month's calendar.\n",
        "    \n",
        "    setfirstweekday(firstweekday)\n",
        "    \n",
        "    timegm(tuple)\n",
        "        Unrelated but handy function to calculate Unix timestamp from GMT.\n",
        "    \n",
        "    weekday(year, month, day)\n",
        "        Return weekday (0-6 ~ Mon-Sun) for year (1970-...), month (1-12),\n",
        "        day (1-31).\n",
        "\n",
        "DATA\n",
        "    __all__ = ['IllegalMonthError', 'IllegalWeekdayError', 'setfirstweekda...\n",
        "    day_abbr = <calendar._localized_day instance>\n",
        "    day_name = <calendar._localized_day instance>\n",
        "    month_abbr = <calendar._localized_month instance>\n",
        "    month_name = <calendar._localized_month instance>\n",
        "\n",
        "\n"
       ]
      }
     ],
     "prompt_number": 10
    },
    {
     "cell_type": "code",
     "collapsed": false,
     "input": [
      "[calendar.day_abbr[i] for i in range(7)]"
     ],
     "language": "python",
     "metadata": {},
     "outputs": [
      {
       "metadata": {},
       "output_type": "pyout",
       "prompt_number": 23,
       "text": [
        "['Mon', 'Tue', 'Wed', 'Thu', 'Fri', 'Sat', 'Sun']"
       ]
      }
     ],
     "prompt_number": 23
    },
    {
     "cell_type": "code",
     "collapsed": false,
     "input": [
      "calendar.monthcalendar(2014,5)"
     ],
     "language": "python",
     "metadata": {},
     "outputs": [
      {
       "metadata": {},
       "output_type": "pyout",
       "prompt_number": 24,
       "text": [
        "[[0, 0, 0, 1, 2, 3, 4],\n",
        " [5, 6, 7, 8, 9, 10, 11],\n",
        " [12, 13, 14, 15, 16, 17, 18],\n",
        " [19, 20, 21, 22, 23, 24, 25],\n",
        " [26, 27, 28, 29, 30, 31, 0]]"
       ]
      }
     ],
     "prompt_number": 24
    },
    {
     "cell_type": "code",
     "collapsed": false,
     "input": [
      "cal.monthdayscalendar(2014,5)"
     ],
     "language": "python",
     "metadata": {},
     "outputs": [
      {
       "metadata": {},
       "output_type": "pyout",
       "prompt_number": 25,
       "text": [
        "[[0, 0, 0, 0, 1, 2, 3],\n",
        " [4, 5, 6, 7, 8, 9, 10],\n",
        " [11, 12, 13, 14, 15, 16, 17],\n",
        " [18, 19, 20, 21, 22, 23, 24],\n",
        " [25, 26, 27, 28, 29, 30, 31]]"
       ]
      }
     ],
     "prompt_number": 25
    },
    {
     "cell_type": "code",
     "collapsed": false,
     "input": [
      "cal.monthdays2calendar(2014,5)"
     ],
     "language": "python",
     "metadata": {},
     "outputs": [
      {
       "metadata": {},
       "output_type": "pyout",
       "prompt_number": 26,
       "text": [
        "[[(0, 6), (0, 0), (0, 1), (0, 2), (1, 3), (2, 4), (3, 5)],\n",
        " [(4, 6), (5, 0), (6, 1), (7, 2), (8, 3), (9, 4), (10, 5)],\n",
        " [(11, 6), (12, 0), (13, 1), (14, 2), (15, 3), (16, 4), (17, 5)],\n",
        " [(18, 6), (19, 0), (20, 1), (21, 2), (22, 3), (23, 4), (24, 5)],\n",
        " [(25, 6), (26, 0), (27, 1), (28, 2), (29, 3), (30, 4), (31, 5)]]"
       ]
      }
     ],
     "prompt_number": 26
    },
    {
     "cell_type": "code",
     "collapsed": false,
     "input": [
      "datetime.now().year"
     ],
     "language": "python",
     "metadata": {},
     "outputs": [
      {
       "metadata": {},
       "output_type": "pyout",
       "prompt_number": 28,
       "text": [
        "2014"
       ]
      }
     ],
     "prompt_number": 28
    },
    {
     "cell_type": "code",
     "collapsed": false,
     "input": [
      "calendar.month_name"
     ],
     "language": "python",
     "metadata": {},
     "outputs": []
    }
   ],
   "metadata": {}
  }
 ]
}